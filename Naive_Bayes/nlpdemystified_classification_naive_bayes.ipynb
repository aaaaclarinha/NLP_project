{
 "cells": [
  {
   "cell_type": "markdown",
   "metadata": {
    "id": "egwknkyvG1-C"
   },
   "source": [
    "# Natural Language Processing Demystified | Classification with Naive Bayes\n",
    "https://nlpdemystified.org<br>\n",
    "https://github.com/futuremojo/nlp-demystified\n",
    "<br><br>\n",
    "Course module for this demo: https://www.nlpdemystified.org/course/naive-bayes"
   ]
  },
  {
   "cell_type": "code",
   "execution_count": 1,
   "metadata": {
    "id": "9AQ6Nyad3kiK"
   },
   "outputs": [
    {
     "name": "stderr",
     "output_type": "stream",
     "text": [
      "/home/james/anaconda3/lib/python3.7/site-packages/torch/cuda/__init__.py:52: UserWarning: CUDA initialization: Found no NVIDIA driver on your system. Please check that you have an NVIDIA GPU and installed a driver from http://www.nvidia.com/Download/index.aspx (Triggered internally at  /pytorch/c10/cuda/CUDAFunctions.cpp:100.)\n",
      "  return torch._C._cuda_getDeviceCount() > 0\n"
     ]
    }
   ],
   "source": [
    "import matplotlib.pyplot as plt\n",
    "import numpy as np\n",
    "import pandas as pd\n",
    "import spacy\n",
    "\n",
    "from sklearn import metrics\n",
    "from sklearn import model_selection\n",
    "from sklearn.datasets import fetch_20newsgroups\n",
    "from sklearn.dummy import DummyClassifier\n",
    "from sklearn.feature_extraction.text import TfidfVectorizer\n",
    "from sklearn.metrics import confusion_matrix, ConfusionMatrixDisplay\n",
    "from sklearn.model_selection import train_test_split\n",
    "from sklearn.naive_bayes import MultinomialNB\n",
    "from sklearn.pipeline import Pipeline"
   ]
  },
  {
   "cell_type": "markdown",
   "metadata": {
    "id": "ozlSs1Tz5f7M"
   },
   "source": [
    "# First pass at building a Naive Bayes model.\n"
   ]
  },
  {
   "cell_type": "markdown",
   "metadata": {
    "id": "auwysA2BBfuE"
   },
   "source": [
    "As with our TF-IDF demo, we'll use the topic modelling file we have performed in the previous class."
   ]
  },
  {
   "cell_type": "code",
   "execution_count": 2,
   "metadata": {
    "id": "eCPNpfOIB8fT"
   },
   "outputs": [],
   "source": [
    "import pandas as pd\n",
    "training_corpus = pd.read_excel('topics.xlsx').dropna()"
   ]
  },
  {
   "cell_type": "code",
   "execution_count": 3,
   "metadata": {
    "id": "qjPpaJitJ0Zf"
   },
   "outputs": [
    {
     "name": "stdout",
     "output_type": "stream",
     "text": [
      "Training data size: 6228\n"
     ]
    }
   ],
   "source": [
    "print('Training data size: {}'.format(len(training_corpus)))"
   ]
  },
  {
   "cell_type": "markdown",
   "metadata": {
    "id": "sLrleHWZ6b6n"
   },
   "source": [
    "The training data we downloaded not only includes the posts but also a label (\"target\") for each post representing its topic. In our case, it will be the column 'labels' of our dataset."
   ]
  },
  {
   "cell_type": "code",
   "execution_count": 4,
   "metadata": {
    "id": "O2CVP3GME8Yo"
   },
   "outputs": [
    {
     "name": "stdout",
     "output_type": "stream",
     "text": [
      "0       0\n",
      "1       3\n",
      "2       2\n",
      "3       5\n",
      "4       9\n",
      "       ..\n",
      "7345    0\n",
      "7346    0\n",
      "7347    7\n",
      "7348    9\n",
      "7349    0\n",
      "Name: labels, Length: 6228, dtype: int64\n"
     ]
    }
   ],
   "source": [
    "# These are the labels/targets for each post.\n",
    "print(training_corpus['labels'])"
   ]
  },
  {
   "cell_type": "code",
   "execution_count": 5,
   "metadata": {
    "id": "gPuaD40XD3V-"
   },
   "outputs": [
    {
     "name": "stdout",
     "output_type": "stream",
     "text": [
      "High-entropy alloys have attracted extensive attention due to their new design concept and excellent performance. As a kind of high-entropy alloy, refractory high-entropy alloys are mainly composed of bcc crystal structure, which has the characteristics of high strength and high hardness as well as the high temperature softening resistance. In the present paper, the preparation method, phase structure, microstructure, mechanical properties and application fields of refractory high-entropy alloy were described, and the directions of future research were also discussed.\n",
      "Corresponding topic: 0\n"
     ]
    }
   ],
   "source": [
    "# The first post along with its corresponding label.\n",
    "print(training_corpus['abstract'][0])\n",
    "\n",
    "first_doc_label = training_corpus['labels'][0]\n",
    "print('Corresponding topic: {}'.format(training_corpus['labels'][first_doc_label]))"
   ]
  },
  {
   "cell_type": "markdown",
   "metadata": {
    "id": "LCaA_rWSGny2"
   },
   "source": [
    "When starting off with a dataset, it's a good idea to check its distribution. In this case, we can see at a glance this dataset is relatively balanced."
   ]
  },
  {
   "cell_type": "code",
   "execution_count": 6,
   "metadata": {
    "id": "IRbTT7vtDbes"
   },
   "outputs": [
    {
     "data": {
      "image/png": "[encoded data removed]",
      "text/plain": [
       "<Figure size 864x576 with 1 Axes>"
      ]
     },
     "metadata": {
      "needs_background": "light"
     },
     "output_type": "display_data"
    }
   ],
   "source": [
    "bins, counts = np.unique(training_corpus['labels'], return_counts=True)\n",
    "freq_series = pd.Series(counts/len(training_corpus['abstract']))\n",
    "plt.figure(figsize=(12, 8))\n",
    "ax = freq_series.plot(kind='bar')\n",
    "ax.set_xticklabels(bins, rotation=0)\n",
    "plt.show()"
   ]
  },
  {
   "cell_type": "markdown",
   "metadata": {
    "id": "akAhiAsuH0Vm"
   },
   "source": [
    "Now that we have our training set, we can split it further into train and validation sets. If you have a small training set like this one, you can use alternative techniques like cross-validation but we'll show a split here since we talked about it in the model building module. scikit-learn has a module to help us do this.<br>\n",
    "https://scikit-learn.org/stable/modules/generated/sklearn.model_selection.train_test_split.html"
   ]
  },
  {
   "cell_type": "code",
   "execution_count": 7,
   "metadata": {
    "id": "u3rdIx__I7JX"
   },
   "outputs": [
    {
     "name": "stdout",
     "output_type": "stream",
     "text": [
      "Training data size: 4982\n",
      "Validation data size: 1246\n"
     ]
    }
   ],
   "source": [
    "# Shuffle, then split the data into train and validation sets. Set the random_state\n",
    "# to 1 for reproducibility.\n",
    "train_data, val_data, train_labels, val_labels = train_test_split(training_corpus['abstract'], training_corpus['labels'], train_size=0.8, random_state=1)\n",
    "print('Training data size: {}'.format(len(train_data)))\n",
    "print('Validation data size: {}'.format(len(val_data)))"
   ]
  },
  {
   "cell_type": "markdown",
   "metadata": {
    "id": "Sg6rGId2K4eb"
   },
   "source": [
    "Now that we have our train-validation split, let's create our spaCy tokenizer. Up to this point, we've been using the **en_core_web_sm** model."
   ]
  },
  {
   "cell_type": "code",
   "execution_count": 8,
   "metadata": {
    "id": "P4pQw-2KK2MV"
   },
   "outputs": [],
   "source": [
    "nlp = spacy.load('en_core_web_sm')"
   ]
  },
  {
   "cell_type": "markdown",
   "metadata": {
    "id": "ElofxHmW7fP_"
   },
   "source": [
    "By default, it comes up with a preprocessing pipeline with several components enabled. We can view these components through the *pipe_names* attribute."
   ]
  },
  {
   "cell_type": "code",
   "execution_count": 9,
   "metadata": {
    "id": "AYATX6AS4k-b"
   },
   "outputs": [
    {
     "data": {
      "text/plain": [
       "['tok2vec', 'tagger', 'parser', 'attribute_ruler', 'lemmatizer', 'ner']"
      ]
     },
     "execution_count": 9,
     "metadata": {},
     "output_type": "execute_result"
    }
   ],
   "source": [
    "nlp.pipe_names"
   ]
  },
  {
   "cell_type": "markdown",
   "metadata": {
    "id": "k2P0S-Tm7toD"
   },
   "source": [
    "In the previous demos, we individually disabled any component we didn't need. For our first pass at building a Naive Bayes classifier, we'll try tokenizing alone. Nothing else. Since that's the case, it's easier to instantiate a blank pipeline.<br>\n",
    "https://spacy.io/api/top-level#spacy.blank"
   ]
  },
  {
   "cell_type": "code",
   "execution_count": 10,
   "metadata": {
    "id": "AauBdVeA4znZ"
   },
   "outputs": [
    {
     "data": {
      "text/plain": [
       "[]"
      ]
     },
     "execution_count": 10,
     "metadata": {},
     "output_type": "execute_result"
    }
   ],
   "source": [
    "nlp = spacy.blank('en')\n",
    "\n",
    "# There should be no pipeline components.\n",
    "nlp.pipe_names"
   ]
  },
  {
   "cell_type": "code",
   "execution_count": 23,
   "metadata": {
    "id": "e1tLv7nF4Za2"
   },
   "outputs": [],
   "source": [
    "# For this exercise, we'll remove punctuation and spaces (which\n",
    "# includes newlines), filter for tokens consisting of alphabetic\n",
    "# characters only, and return the token text.\n",
    "nlp.Defaults.stop_words.add(\"nan\")\n",
    "\n",
    "def spacy_tokenizer(doc):\n",
    "  return [t.text for t in nlp(doc) if \\\n",
    "          not t.is_punct and \\\n",
    "          not t.is_space]"
   ]
  },
  {
   "cell_type": "markdown",
   "metadata": {
    "id": "ylefAguOKgVk"
   },
   "source": [
    "We'll vectorize using the **TfidfVectorizer**."
   ]
  },
  {
   "cell_type": "code",
   "execution_count": 24,
   "metadata": {
    "id": "XpX_QndoCbaz"
   },
   "outputs": [
    {
     "name": "stdout",
     "output_type": "stream",
     "text": [
      "CPU times: user 2min 39s, sys: 24.4 ms, total: 2min 39s\n",
      "Wall time: 2min 39s\n"
     ]
    }
   ],
   "source": [
    "%%time\n",
    "vectorizer = TfidfVectorizer(tokenizer=spacy_tokenizer)\n",
    "train_feature_vects = vectorizer.fit_transform(train_data)"
   ]
  },
  {
   "cell_type": "markdown",
   "metadata": {
    "id": "qWys2B9xOXiq"
   },
   "source": [
    "Scikit-learn includes a multinomial naive bayes classifier.<br>\n",
    "https://scikit-learn.org/stable/modules/generated/sklearn.naive_bayes.MultinomialNB.html"
   ]
  },
  {
   "cell_type": "markdown",
   "metadata": {
    "id": "YTo6o5LyYNnq"
   },
   "source": [
    "Calling *fit* on the classifier and passing it the feature vectors and corresponding labels kicks off the training."
   ]
  },
  {
   "cell_type": "code",
   "execution_count": 25,
   "metadata": {
    "id": "S4RouNa1OT_U"
   },
   "outputs": [
    {
     "data": {
      "text/plain": [
       "{'alpha': 1.0, 'class_prior': None, 'fit_prior': True}"
      ]
     },
     "execution_count": 25,
     "metadata": {},
     "output_type": "execute_result"
    }
   ],
   "source": [
    "# Instantiate a classifier with the default settings.\n",
    "nb_classifier = MultinomialNB()\n",
    "nb_classifier.fit(train_feature_vects, train_labels)\n",
    "nb_classifier.get_params()"
   ]
  },
  {
   "cell_type": "markdown",
   "metadata": {
    "id": "zUWJuhJlPiHS"
   },
   "source": [
    "Now that we know about the **F1 score** and have a multiclass problem, let's look at the F1 score on the training data. Since the dataset is balanced, accuracy could work here as well but we'll look at F1 since we introduced it. scikit-learn has a module called **metrics** we can leverage. It contains a variety of scoring utilities we can use.<br>\n",
    "https://scikit-learn.org/stable/modules/classes.html#module-sklearn.metrics<br>\n",
    "https://scikit-learn.org/stable/modules/generated/sklearn.metrics.f1_score.html#sklearn.metrics.f1_score<br>\n",
    "https://scikit-learn.org/stable/modules/model_evaluation.html#precision-recall-f-measure-metrics<br>"
   ]
  },
  {
   "cell_type": "code",
   "execution_count": 26,
   "metadata": {
    "id": "vJ3MctXZYB9B"
   },
   "outputs": [
    {
     "name": "stdout",
     "output_type": "stream",
     "text": [
      "F1 score on initial training set: 0.44126800359254437\n"
     ]
    }
   ],
   "source": [
    "# Get predictions on training set and calculate F1 score.\n",
    "# See documentation above for more details on what \"macro\" means.\n",
    "train_preds = nb_classifier.predict(train_feature_vects)\n",
    "print('F1 score on initial training set: {}'.format(metrics.f1_score(train_labels, train_preds, average='macro')))"
   ]
  },
  {
   "cell_type": "markdown",
   "metadata": {
    "id": "Tw76J_P0QJa5"
   },
   "source": [
    "So right off the bat, using simple preprocessing and vectorization, and the default settings on the Naive Bayes classifier, we get a model with a decent F1 score.<br><br>"
   ]
  },
  {
   "cell_type": "markdown",
   "metadata": {
    "id": "gBCFRGBxQbql"
   },
   "source": [
    "Let's plot a confusion matrix to see what's going on:<br>\n",
    "https://scikit-learn.org/stable/modules/generated/sklearn.metrics.ConfusionMatrixDisplay.html<br>\n",
    "https://scikit-learn.org/stable/modules/model_evaluation.html#confusion-matrix"
   ]
  },
  {
   "cell_type": "code",
   "execution_count": 27,
   "metadata": {
    "scrolled": true
   },
   "outputs": [],
   "source": [
    "# Vectorize the validation data.\n",
    "val_feature_vects = vectorizer.transform(val_data)"
   ]
  },
  {
   "cell_type": "code",
   "execution_count": 28,
   "metadata": {
    "id": "FiITJWX3W9cD"
   },
   "outputs": [
    {
     "data": {
      "image/png": "[encoded data removed]",
      "text/plain": [
       "<Figure size 1080x1080 with 2 Axes>"
      ]
     },
     "metadata": {
      "needs_background": "light"
     },
     "output_type": "display_data"
    }
   ],
   "source": [
    "# Set the size of the plot.\n",
    "fig, ax = plt.subplots(figsize=(15, 15))\n",
    "\n",
    "# Create the confusion matrix.\n",
    "disp = ConfusionMatrixDisplay.from_estimator(nb_classifier, val_feature_vects, val_labels, normalize='true', xticks_rotation='vertical', ax=ax)\n",
    "# If you had an error, upgrade your scikit-learn package.\n",
    "# pip uninstall scikit-learn\n",
    "# pip install scikit-learn==1.0.2"
   ]
  },
  {
   "cell_type": "markdown",
   "metadata": {
    "id": "wnc6wj02ZqYz"
   },
   "source": [
    "Similar to what we saw in the slides, the y-axis represents the true labels and the x-axis represents the predictions. Each square's brightness represents the number of posts assigned to that class. What we ideally want is brightness along the diagonal (top-left to bottom-right) which represent correct predictions, and little to no brightness anywhere else.\n",
    "<br><br>"
   ]
  },
  {
   "cell_type": "markdown",
   "metadata": {
    "id": "k8RoMv8yg9p5"
   },
   "source": [
    "Let's take a look at **precision** and **recall** for each label:<br>\n",
    "https://scikit-learn.org/stable/modules/generated/sklearn.metrics.classification_report.html<br>\n",
    "https://scikit-learn.org/stable/modules/model_evaluation.html#classification-report"
   ]
  },
  {
   "cell_type": "markdown",
   "metadata": {},
   "source": [
    "The next celll is just to be aligned with the original tutorial and avoid a lot of rewrites."
   ]
  },
  {
   "cell_type": "code",
   "execution_count": 29,
   "metadata": {},
   "outputs": [
    {
     "name": "stdout",
     "output_type": "stream",
     "text": [
      "F1 score on filtered validation set: 0.35850506697111484\n"
     ]
    }
   ],
   "source": [
    "# Predict and evaluate.\n",
    "val_preds = nb_classifier.predict(val_feature_vects)\n",
    "print('F1 score on filtered validation set: {}'.format(metrics.f1_score(val_labels, val_preds, average='macro')))"
   ]
  },
  {
   "cell_type": "code",
   "execution_count": 30,
   "metadata": {
    "id": "R0P_PA6ebjAU"
   },
   "outputs": [
    {
     "name": "stdout",
     "output_type": "stream",
     "text": [
      "              precision    recall  f1-score   support\n",
      "\n",
      "           0       0.79      0.62      0.69       188\n",
      "           1       0.00      0.00      0.00        34\n",
      "           2       0.00      0.00      0.00        57\n",
      "           3       0.66      0.67      0.66       159\n",
      "           4       0.00      0.00      0.00        33\n",
      "           5       0.94      0.21      0.34        77\n",
      "           6       0.69      0.46      0.55       146\n",
      "           7       0.88      0.70      0.78       171\n",
      "           8       1.00      0.01      0.02       110\n",
      "           9       0.38      0.96      0.54       271\n",
      "\n",
      "    accuracy                           0.55      1246\n",
      "   macro avg       0.53      0.36      0.36      1246\n",
      "weighted avg       0.63      0.55      0.50      1246\n",
      "\n"
     ]
    },
    {
     "name": "stderr",
     "output_type": "stream",
     "text": [
      "/home/james/anaconda3/lib/python3.7/site-packages/sklearn/metrics/_classification.py:1318: UndefinedMetricWarning: Precision and F-score are ill-defined and being set to 0.0 in labels with no predicted samples. Use `zero_division` parameter to control this behavior.\n",
      "  _warn_prf(average, modifier, msg_start, len(result))\n",
      "/home/james/anaconda3/lib/python3.7/site-packages/sklearn/metrics/_classification.py:1318: UndefinedMetricWarning: Precision and F-score are ill-defined and being set to 0.0 in labels with no predicted samples. Use `zero_division` parameter to control this behavior.\n",
      "  _warn_prf(average, modifier, msg_start, len(result))\n",
      "/home/james/anaconda3/lib/python3.7/site-packages/sklearn/metrics/_classification.py:1318: UndefinedMetricWarning: Precision and F-score are ill-defined and being set to 0.0 in labels with no predicted samples. Use `zero_division` parameter to control this behavior.\n",
      "  _warn_prf(average, modifier, msg_start, len(result))\n"
     ]
    }
   ],
   "source": [
    "print(metrics.classification_report(val_labels, val_preds))"
   ]
  },
  {
   "cell_type": "markdown",
   "metadata": {
    "id": "Tg_-c_mueeo-"
   },
   "source": [
    "# Improving the model\n",
    "\n"
   ]
  },
  {
   "cell_type": "markdown",
   "metadata": {
    "id": "_sh4NkAciNdp"
   },
   "source": [
    "Let's try to do better. One thing that's likely an issue is the sheer number of features we have relative to how little data there is."
   ]
  },
  {
   "cell_type": "code",
   "execution_count": 31,
   "metadata": {
    "id": "OFjW_Ee5e433"
   },
   "outputs": [
    {
     "name": "stdout",
     "output_type": "stream",
     "text": [
      "Training data size: 4982\n",
      "Number of training features: 23507\n"
     ]
    }
   ],
   "source": [
    "print('Training data size: {}'.format(len(train_data)))\n",
    "print('Number of training features: {}'.format(len(train_feature_vects[0].toarray().flatten())))"
   ]
  },
  {
   "cell_type": "markdown",
   "metadata": {
    "id": "mB5wpYxzkdFx"
   },
   "source": [
    "So we can experiment with:\n",
    "1. Removing stop words because topic identification likely depends more on keywords rather than sequences in this case.\n",
    "3. Using the token lemma rather than the text.\n",
    "<br>\n"
   ]
  },
  {
   "cell_type": "markdown",
   "metadata": {
    "id": "NZvOroxYAYtj"
   },
   "source": [
    "We can't get away with the blank pipeline since we need a bunch of components to generate the lemma. So we'll load the **en_core_web_sm** model and disable named-entity recognition and parsing in the tokenizer callback."
   ]
  },
  {
   "cell_type": "code",
   "execution_count": 32,
   "metadata": {
    "id": "kuqg4x5z5R6M"
   },
   "outputs": [],
   "source": [
    "nlp = spacy.load('en_core_web_sm')"
   ]
  },
  {
   "cell_type": "code",
   "execution_count": 33,
   "metadata": {
    "id": "x2I72F5peeFR"
   },
   "outputs": [],
   "source": [
    "unwanted_pipes = ['ner', 'parser']\n",
    "\n",
    "# Further remove stop words and take the lemma instead of token text.\n",
    "def spacy_tokenizer(doc):\n",
    "  with nlp.disable_pipes(*unwanted_pipes):\n",
    "    return [t.lemma_ for t in nlp(doc) if \\\n",
    "            not t.is_punct and \\\n",
    "            not t.is_space and \\\n",
    "            not t.is_stop]"
   ]
  },
  {
   "cell_type": "markdown",
   "metadata": {
    "id": "fFFLr6TRjIkS"
   },
   "source": [
    "We need to re-vectorize the training set with the new tokenizer. Because there are certain components enabled, this is going to take longer (a few mins). Take a look at these link for ways to further optimize spaCy's pipeline:<br>\n",
    "https://spacy.io/usage/processing-pipelines#processing<br>\n",
    "https://spacy.io/api/language#pipe<br><br>\n",
    "YouTube video from spaCy on using **nlp.pipe**: [Speed up spaCy pipelines via `nlp.pipe` - spaCy shorts](https://www.youtube.com/watch?v=OoZ-H_8vRnc)<br>\n",
    "Tuning **nlp.pipe**: https://stackoverflow.com/questions/65850018/processing-text-with-spacy-nlp-pipe<br>\n",
    "Passing a list of pre-processed tokens to TfidfVectorizer: https://www.davidsbatista.net/blog/2018/02/28/TfidfVectorizer/"
   ]
  },
  {
   "cell_type": "code",
   "execution_count": 34,
   "metadata": {
    "id": "GzRMdHOg-Z1c"
   },
   "outputs": [
    {
     "name": "stdout",
     "output_type": "stream",
     "text": [
      "CPU times: user 1min 18s, sys: 31.9 ms, total: 1min 18s\n",
      "Wall time: 1min 18s\n"
     ]
    }
   ],
   "source": [
    "%%time\n",
    "vectorizer = TfidfVectorizer(tokenizer=spacy_tokenizer)\n",
    "train_feature_vects = vectorizer.fit_transform(train_data)"
   ]
  },
  {
   "cell_type": "code",
   "execution_count": 35,
   "metadata": {
    "id": "FBY6WanaBVw5"
   },
   "outputs": [
    {
     "name": "stdout",
     "output_type": "stream",
     "text": [
      "Number of training features: 20660\n"
     ]
    }
   ],
   "source": [
    "# Check the number of features now.\n",
    "print('Number of training features: {}'.format(len(train_feature_vects[0].toarray().flatten())))"
   ]
  },
  {
   "cell_type": "markdown",
   "metadata": {
    "id": "7x9EYRCRlIDW"
   },
   "source": [
    "A little better but still not great. Let's retrain our classifier and see what happens."
   ]
  },
  {
   "cell_type": "code",
   "execution_count": 36,
   "metadata": {
    "id": "ykdDS-De9-Cy"
   },
   "outputs": [
    {
     "name": "stdout",
     "output_type": "stream",
     "text": [
      "Training F1 score with fewer features: 0.5102835636890866\n"
     ]
    }
   ],
   "source": [
    "nb_classifier.fit(train_feature_vects, train_labels)\n",
    "train_preds = nb_classifier.predict(train_feature_vects)\n",
    "print('Training F1 score with fewer features: {}'.format(metrics.f1_score(train_labels, train_preds, average='macro')))"
   ]
  },
  {
   "cell_type": "markdown",
   "metadata": {
    "id": "VBLUzjod996N"
   },
   "source": [
    "Check classifier performance on validation set."
   ]
  },
  {
   "cell_type": "code",
   "execution_count": 37,
   "metadata": {
    "id": "W9EH7UyvliIJ"
   },
   "outputs": [
    {
     "name": "stdout",
     "output_type": "stream",
     "text": [
      "CPU times: user 19.3 s, sys: 16 ms, total: 19.3 s\n",
      "Wall time: 19.4 s\n"
     ]
    }
   ],
   "source": [
    "%%time\n",
    "val_feature_vects = vectorizer.transform(val_data)"
   ]
  },
  {
   "cell_type": "code",
   "execution_count": 38,
   "metadata": {
    "id": "cHntKMpPliRZ"
   },
   "outputs": [
    {
     "name": "stdout",
     "output_type": "stream",
     "text": [
      "Validation F1 score with fewer features: 0.41080931328902104\n"
     ]
    }
   ],
   "source": [
    "val_preds = nb_classifier.predict(val_feature_vects)\n",
    "print('Validation F1 score with fewer features: {}'.format(metrics.f1_score(val_labels, val_preds, average='macro')))"
   ]
  },
  {
   "cell_type": "markdown",
   "metadata": {
    "id": "BMOCM485mPky"
   },
   "source": [
    "Let's look at the confusion matrix and classification report."
   ]
  },
  {
   "cell_type": "code",
   "execution_count": 39,
   "metadata": {
    "id": "cH67cCdwliZH"
   },
   "outputs": [
    {
     "data": {
      "image/png": "[encoded data removed]",
      "text/plain": [
       "<Figure size 1080x1080 with 2 Axes>"
      ]
     },
     "metadata": {
      "needs_background": "light"
     },
     "output_type": "display_data"
    }
   ],
   "source": [
    "fig, ax = plt.subplots(figsize=(15, 15))\n",
    "disp = ConfusionMatrixDisplay.from_estimator(nb_classifier, val_feature_vects, val_labels, normalize='true', xticks_rotation='vertical', ax=ax)"
   ]
  },
  {
   "cell_type": "code",
   "execution_count": 41,
   "metadata": {
    "id": "F7ifQJaSlije"
   },
   "outputs": [
    {
     "name": "stdout",
     "output_type": "stream",
     "text": [
      "              precision    recall  f1-score   support\n",
      "\n",
      "           0       0.76      0.69      0.73       188\n",
      "           1       0.00      0.00      0.00        34\n",
      "           2       1.00      0.02      0.03        57\n",
      "           3       0.66      0.73      0.69       159\n",
      "           4       0.00      0.00      0.00        33\n",
      "           5       0.94      0.40      0.56        77\n",
      "           6       0.69      0.55      0.61       146\n",
      "           7       0.85      0.83      0.84       171\n",
      "           8       1.00      0.02      0.04       110\n",
      "           9       0.45      0.95      0.61       271\n",
      "\n",
      "    accuracy                           0.61      1246\n",
      "   macro avg       0.63      0.42      0.41      1246\n",
      "weighted avg       0.68      0.61      0.56      1246\n",
      "\n"
     ]
    },
    {
     "name": "stderr",
     "output_type": "stream",
     "text": [
      "/home/james/anaconda3/lib/python3.7/site-packages/sklearn/metrics/_classification.py:1318: UndefinedMetricWarning: Precision and F-score are ill-defined and being set to 0.0 in labels with no predicted samples. Use `zero_division` parameter to control this behavior.\n",
      "  _warn_prf(average, modifier, msg_start, len(result))\n",
      "/home/james/anaconda3/lib/python3.7/site-packages/sklearn/metrics/_classification.py:1318: UndefinedMetricWarning: Precision and F-score are ill-defined and being set to 0.0 in labels with no predicted samples. Use `zero_division` parameter to control this behavior.\n",
      "  _warn_prf(average, modifier, msg_start, len(result))\n",
      "/home/james/anaconda3/lib/python3.7/site-packages/sklearn/metrics/_classification.py:1318: UndefinedMetricWarning: Precision and F-score are ill-defined and being set to 0.0 in labels with no predicted samples. Use `zero_division` parameter to control this behavior.\n",
      "  _warn_prf(average, modifier, msg_start, len(result))\n"
     ]
    }
   ],
   "source": [
    "print(metrics.classification_report(val_labels, val_preds))"
   ]
  },
  {
   "cell_type": "markdown",
   "metadata": {
    "id": "3Xlt7kUmmfTB"
   },
   "source": [
    "Let's assume for now that we can't get or generate more data."
   ]
  },
  {
   "cell_type": "markdown",
   "metadata": {
    "id": "jWyhcbn9mfcL"
   },
   "source": [
    "Next, we can try tuning a hyperparameter on the classifier. For Naive Bayes, we'll adjust the the *alpha* smoothing factor we discussed in the slides. But rather than trying a bunch ourselves, we can use a combination of **Grid Search** and **Cross Validation**.\n",
    "- Grid search involves having the computer try a list of hyperparameter values for us, and returning the best performing value. The list of hyperparameter values to try is supplied by us. Grid search is a basic technique and there are a number of other techniques such as **random search** and **bayesian optimization**.\n",
    "- Cross validation is a way to evaluate machine learning models on limited datasets. It randomly splits the data into k-groups. One group is set aside as the holdout set while the classifier trains a model on the remaining groups. The resulting model is then used on the holdout group and the score recorded. This repeats itself until all groups have been used as a holdout set and an average score returned.\n",
    "\n",
    "Scikit-learn has modules to handle both for us:<br>\n",
    "https://scikit-learn.org/stable/modules/generated/sklearn.model_selection.GridSearchCV.html<br>\n",
    "https://scikit-learn.org/stable/modules/grid_search.html#grid-search<br>\n",
    "https://scikit-learn.org/stable/modules/cross_validation.html<br>\n"
   ]
  },
  {
   "cell_type": "code",
   "execution_count": 42,
   "metadata": {
    "id": "UCSbxiQWpWNg"
   },
   "outputs": [
    {
     "name": "stdout",
     "output_type": "stream",
     "text": [
      "Fitting 5 folds for each of 5 candidates, totalling 25 fits\n"
     ]
    },
    {
     "data": {
      "text/plain": [
       "GridSearchCV(cv=5, estimator=MultinomialNB(), n_jobs=-1,\n",
       "             param_grid={'alpha': [0.01, 0.1, 0.5, 1.0, 10.0]},\n",
       "             scoring='f1_macro', verbose=5)"
      ]
     },
     "execution_count": 42,
     "metadata": {},
     "output_type": "execute_result"
    }
   ],
   "source": [
    "# The alpha values to try.\n",
    "params = {'alpha': [0.01, 0.1, 0.5, 1.0, 10.0,],}\n",
    "\n",
    "# Instantiate the search with the model we want to try and fit it on the training data.\n",
    "multinomial_nb_grid = model_selection.GridSearchCV(MultinomialNB(), param_grid=params, scoring='f1_macro', n_jobs=-1, cv=5, verbose=5)\n",
    "multinomial_nb_grid.fit(train_feature_vects, train_labels)"
   ]
  },
  {
   "cell_type": "markdown",
   "metadata": {
    "id": "j3NsSXcKpky2"
   },
   "source": [
    "The resulting **GridSearchCV** object has a number of attributes you can explore:<br>\n",
    "https://scikit-learn.org/stable/modules/generated/sklearn.model_selection.GridSearchCV.html\n",
    "<br><br>\n",
    "We're interested in the best performing parameter value(s)."
   ]
  },
  {
   "cell_type": "code",
   "execution_count": 43,
   "metadata": {
    "id": "vJwHWedlpWcM"
   },
   "outputs": [
    {
     "name": "stdout",
     "output_type": "stream",
     "text": [
      "Best parameter value(s): {'alpha': 0.01}\n"
     ]
    }
   ],
   "source": [
    "print('Best parameter value(s): {}'.format(multinomial_nb_grid.best_params_))"
   ]
  },
  {
   "cell_type": "markdown",
   "metadata": {
    "id": "zUrc7dbzp27E"
   },
   "source": [
    "You can directly access the best estimator found by the search. Let's try using it on the validation set."
   ]
  },
  {
   "cell_type": "code",
   "execution_count": 44,
   "metadata": {
    "id": "TlF5Ji1vqDq0"
   },
   "outputs": [
    {
     "name": "stdout",
     "output_type": "stream",
     "text": [
      "Validation F1 score with fewer features: 0.6838846449176154\n"
     ]
    }
   ],
   "source": [
    "best_nb_classifier = multinomial_nb_grid.best_estimator_\n",
    "val_preds = best_nb_classifier.predict(val_feature_vects)\n",
    "print('Validation F1 score with fewer features: {}'.format(metrics.f1_score(val_labels, val_preds, average='macro')))"
   ]
  },
  {
   "cell_type": "markdown",
   "metadata": {
    "id": "rzhjYdM-qYkk"
   },
   "source": [
    "So we got another decent jump after using the the optimal *alpha* value. Let's look at the confusion matrix (using the best estimator so far) and classification report again.\n"
   ]
  },
  {
   "cell_type": "code",
   "execution_count": 45,
   "metadata": {
    "id": "xxaQxpAdpWjc"
   },
   "outputs": [
    {
     "data": {
      "image/png": "[encoded data removed]",
      "text/plain": [
       "<Figure size 1080x1080 with 2 Axes>"
      ]
     },
     "metadata": {
      "needs_background": "light"
     },
     "output_type": "display_data"
    }
   ],
   "source": [
    "fig, ax = plt.subplots(figsize=(15, 15))\n",
    "disp = ConfusionMatrixDisplay.from_estimator(best_nb_classifier, val_feature_vects, val_labels, normalize='true', xticks_rotation='vertical', ax=ax)"
   ]
  },
  {
   "cell_type": "code",
   "execution_count": 46,
   "metadata": {
    "id": "ndj-_mlKqnvd"
   },
   "outputs": [
    {
     "name": "stdout",
     "output_type": "stream",
     "text": [
      "              precision    recall  f1-score   support\n",
      "\n",
      "           0       0.71      0.74      0.72       188\n",
      "           1       0.90      0.79      0.84        34\n",
      "           2       0.81      0.67      0.73        57\n",
      "           3       0.65      0.80      0.72       159\n",
      "           4       0.60      0.09      0.16        33\n",
      "           5       0.72      0.88      0.80        77\n",
      "           6       0.73      0.72      0.73       146\n",
      "           7       0.78      0.87      0.82       171\n",
      "           8       0.76      0.55      0.63       110\n",
      "           9       0.69      0.68      0.69       271\n",
      "\n",
      "    accuracy                           0.72      1246\n",
      "   macro avg       0.74      0.68      0.68      1246\n",
      "weighted avg       0.72      0.72      0.71      1246\n",
      "\n"
     ]
    }
   ],
   "source": [
    "print(metrics.classification_report(val_labels, val_preds))"
   ]
  },
  {
   "cell_type": "markdown",
   "metadata": {
    "id": "jsslL_bsqnnB"
   },
   "source": [
    "Given the small data size and the soft borders around various topics, what we have now is probably good enough. A few further ideas to explore:\n",
    "1. Augment the training data with posts from similar subreddits.\n",
    "2. Incorporate n-grams.\n",
    "3. Remove the *misc* categories if your goal allows it.\n",
    "4. Merge a few categories with large overlap together if your goal allows it.\n",
    "5. Use the **CountVectorizer** instead of the **TfidfVectorizer**.\n",
    "6. Play around with adding more stop words after seeing which ones are the most prevalent.\n",
    "7. Play with the min_df, max_df, and max_features in the **TFidfVectorizer**.\n",
    "8. Use a dimensionality reduction technique like Singular Value Decomposition (SVD) or dense word vectors which we'll cover in Part II.\n",
    "9. Try other models: logistic regression, support vector machines, random forests, SGD classifier.\n",
    "\n",
    "My guess is that, aside from merging categories, it'll be hard to do much better than what we have given the nature of the data.\n",
    "\n",
    "https://scikit-learn.org/stable/modules/generated/sklearn.linear_model.LogisticRegression.html\n",
    "<br>\n",
    "https://scikit-learn.org/stable/modules/svm.html#svm-classification\n",
    "<br>\n",
    "https://scikit-learn.org/stable/modules/generated/sklearn.ensemble.RandomForestClassifier.html\n",
    "<br>\n",
    "https://scikit-learn.org/stable/modules/generated/sklearn.linear_model.SGDClassifier.html\n",
    "\n"
   ]
  },
  {
   "cell_type": "markdown",
   "metadata": {
    "id": "nG4KYHvPuUwy"
   },
   "source": [
    "For idea **(6)**, we can use the function below to view the most commonly occurring words in each category."
   ]
  },
  {
   "cell_type": "code",
   "execution_count": 47,
   "metadata": {
    "id": "BO1vyE_Jqnd9"
   },
   "outputs": [],
   "source": [
    "def show_top_words(classifier, vectorizer, categories, top_n):\n",
    "  feature_names = np.asarray(vectorizer.get_feature_names_out())\n",
    "  for i, category in enumerate(categories):\n",
    "    prob_sorted = classifier.feature_log_prob_[i, :].argsort()[::-1]\n",
    "    print(\"%s: %s\" % (category, \" \".join(feature_names[prob_sorted[:top_n]])))"
   ]
  },
  {
   "cell_type": "code",
   "execution_count": 48,
   "metadata": {
    "id": "SzrTHDDktms8"
   },
   "outputs": [
    {
     "name": "stdout",
     "output_type": "stream",
     "text": [
      "0: alloy high material heas property entropy hea design phase new\n",
      "1: film coating thin deposit nitride structure gpa sputter magnetron substrate\n",
      "2: corrosion resistance alloy film passive electrochemical coating solution hea high\n",
      "3: strength hea alloy powder high grain composite mpa phase mechanical\n",
      "4: material reaction catalyst surface alloy metal new activity high steel\n",
      "5: coating wear resistance substrate hea laser high phase hardness alloy\n",
      "6: phase alloy bcc fcc x = content al structure high\n",
      "7: deformation dislocation strain grain twin temperature stress high strength alloy\n",
      "8: degree c temperature phase alloy oxidation anneal high c. 800\n",
      "9: alloy high phase ni entropy hea cr temperature energy fe\n"
     ]
    }
   ],
   "source": [
    "show_top_words(best_nb_classifier, vectorizer, np.sort(training_corpus['labels'].unique()), 10)"
   ]
  },
  {
   "cell_type": "markdown",
   "metadata": {
    "id": "LtexSjOp_4wj"
   },
   "source": [
    "As a sanity check, we can use scikit-learns **DummyClassifier** which can make predictions using strategies such as \"just guess the most frequently occurring class\" or \"make random guesses\".<br>\n",
    "https://scikit-learn.org/stable/modules/generated/sklearn.dummy.DummyClassifier.html"
   ]
  },
  {
   "cell_type": "code",
   "execution_count": 49,
   "metadata": {
    "id": "C1e28pieaexT"
   },
   "outputs": [
    {
     "data": {
      "text/plain": [
       "0.2174959871589085"
      ]
     },
     "execution_count": 49,
     "metadata": {},
     "output_type": "execute_result"
    }
   ],
   "source": [
    "# Train a dummy classifier which just guesses the most frequent class.\n",
    "dummy_clf = DummyClassifier(strategy=\"most_frequent\")\n",
    "dummy_clf.fit(train_feature_vects, train_labels)\n",
    "dummy_clf.score(val_feature_vects, val_labels)"
   ]
  },
  {
   "cell_type": "code",
   "execution_count": 50,
   "metadata": {
    "id": "g53QB8nGbeoB"
   },
   "outputs": [
    {
     "data": {
      "text/plain": [
       "0.09229534510433386"
      ]
     },
     "execution_count": 50,
     "metadata": {},
     "output_type": "execute_result"
    }
   ],
   "source": [
    "# Train a dummy classifier which just guesses a class randomly.\n",
    "dummy_clf = DummyClassifier(strategy=\"uniform\")\n",
    "dummy_clf.fit(train_feature_vects, train_labels)\n",
    "dummy_clf.score(val_feature_vects, val_labels)"
   ]
  },
  {
   "cell_type": "markdown",
   "metadata": {},
   "source": [
    "We can see the dummy classifier is much worse."
   ]
  },
  {
   "cell_type": "markdown",
   "metadata": {
    "id": "RXN_3sltvNWV"
   },
   "source": [
    "# Creating the final Naive Bayes classifier."
   ]
  },
  {
   "cell_type": "markdown",
   "metadata": {
    "id": "TBtpCqa8t5GZ"
   },
   "source": [
    "Let's train the classifier we'll use on the test set. We'll use the entire original training set (including validation data) and the ideal *alpha* param.\n",
    "<br>\n",
    "We'll also use scikit-learn's **Pipeline** to specify a series of transformation and training steps so we can vectorize and fit a model with one call. Creating a few of these pipelines can help speed up your development and stay organized:<br>\n",
    "https://scikit-learn.org/stable/modules/generated/sklearn.pipeline.Pipeline.html\n"
   ]
  },
  {
   "cell_type": "code",
   "execution_count": 51,
   "metadata": {
    "id": "nrj1BURWw3AP"
   },
   "outputs": [],
   "source": [
    "text_classifier = Pipeline([\n",
    "  ('vectorizer', TfidfVectorizer(tokenizer=spacy_tokenizer)),\n",
    "  ('classifier', MultinomialNB(alpha=0.01))\n",
    "])"
   ]
  },
  {
   "cell_type": "code",
   "execution_count": 52,
   "metadata": {
    "id": "EeznMt1Fze3Z"
   },
   "outputs": [
    {
     "name": "stdout",
     "output_type": "stream",
     "text": [
      "CPU times: user 22.7 s, sys: 36 ms, total: 22.7 s\n",
      "Wall time: 22.8 s\n"
     ]
    },
    {
     "data": {
      "text/plain": [
       "Pipeline(steps=[('vectorizer',\n",
       "                 TfidfVectorizer(tokenizer=<function spacy_tokenizer at 0x7f5481d898c0>)),\n",
       "                ('classifier', MultinomialNB(alpha=0.01))])"
      ]
     },
     "execution_count": 52,
     "metadata": {},
     "output_type": "execute_result"
    }
   ],
   "source": [
    "%%time\n",
    "text_classifier.fit(training_corpus['docs'], training_corpus['labels'])"
   ]
  },
  {
   "cell_type": "code",
   "execution_count": 53,
   "metadata": {
    "id": "Gtr4vs4du5Hl"
   },
   "outputs": [],
   "source": [
    "filtered_test_corpus = training_corpus"
   ]
  },
  {
   "cell_type": "markdown",
   "metadata": {
    "id": "BxWYFXwvNzPx"
   },
   "source": [
    "We can now pass the raw test data directly to the classifier."
   ]
  },
  {
   "cell_type": "code",
   "execution_count": 54,
   "metadata": {
    "id": "3eDucMkzj5Lj"
   },
   "outputs": [
    {
     "name": "stdout",
     "output_type": "stream",
     "text": [
      "CPU times: user 21.8 s, sys: 20.2 ms, total: 21.9 s\n",
      "Wall time: 22.1 s\n"
     ]
    }
   ],
   "source": [
    "%%time\n",
    "test_preds = text_classifier.predict(filtered_test_corpus['docs'])"
   ]
  },
  {
   "cell_type": "code",
   "execution_count": 55,
   "metadata": {
    "id": "k8ThbeHJj5IM"
   },
   "outputs": [
    {
     "data": {
      "image/png": "[encoded data removed]",
      "text/plain": [
       "<Figure size 1080x1080 with 2 Axes>"
      ]
     },
     "metadata": {
      "needs_background": "light"
     },
     "output_type": "display_data"
    },
    {
     "name": "stdout",
     "output_type": "stream",
     "text": [
      "CPU times: user 594 ms, sys: 75.9 ms, total: 670 ms\n",
      "Wall time: 519 ms\n"
     ]
    }
   ],
   "source": [
    "%%time\n",
    "fig, ax = plt.subplots(figsize=(15, 15))\n",
    "ConfusionMatrixDisplay.from_predictions(filtered_test_corpus['labels'], test_preds, normalize='true', xticks_rotation='vertical', ax=ax)\n",
    "plt.show()"
   ]
  },
  {
   "cell_type": "markdown",
   "metadata": {
    "id": "YeKTyl-W07Wi"
   },
   "source": [
    "We can see now that our model is working very well!\n",
    "<br><br>"
   ]
  },
  {
   "cell_type": "code",
   "execution_count": 56,
   "metadata": {
    "id": "gQ5m0fEkj5Ej"
   },
   "outputs": [
    {
     "name": "stdout",
     "output_type": "stream",
     "text": [
      "              precision    recall  f1-score   support\n",
      "\n",
      "           0       0.87      0.84      0.86       958\n",
      "           1       0.94      0.93      0.94       236\n",
      "           2       0.95      0.90      0.92       279\n",
      "           3       0.83      0.89      0.85       825\n",
      "           4       0.98      0.85      0.91       144\n",
      "           5       0.91      0.96      0.94       436\n",
      "           6       0.87      0.86      0.87       771\n",
      "           7       0.83      0.91      0.87       798\n",
      "           8       0.90      0.79      0.84       473\n",
      "           9       0.87      0.86      0.87      1308\n",
      "\n",
      "    accuracy                           0.87      6228\n",
      "   macro avg       0.90      0.88      0.89      6228\n",
      "weighted avg       0.87      0.87      0.87      6228\n",
      "\n"
     ]
    }
   ],
   "source": [
    "print(metrics.classification_report(filtered_test_corpus['labels'], test_preds))"
   ]
  },
  {
   "cell_type": "markdown",
   "metadata": {
    "id": "csncNP4BmUd_"
   },
   "source": [
    "We can now leverage our pipeline to classify new documents on the fly now.\n",
    "<br><br>\n",
    "The function below takes a classifier, a document to classify, and an optional set of labels. It returns a tuple of the most probable class and its probability. With this information, you can choose a probability threshold over which to accept a classification. If it falls below the threshold, perhaps you can classify it in some default bucket or pass it to a human, or to another classifier downstream. You could also require a minimum string length for classification along with other conditions.\n",
    "<br><br>\n"
   ]
  },
  {
   "cell_type": "code",
   "execution_count": 62,
   "metadata": {
    "id": "uJ2lYTdW3HXP"
   },
   "outputs": [],
   "source": [
    "def classify_text(clf, doc, labels=None):\n",
    "  probas = clf.predict_proba([doc]).flatten()\n",
    "  max_proba_idx = np.argmax(probas)\n",
    "\n",
    "  if labels:\n",
    "    most_proba_class = labels[max_proba_idx]\n",
    "  else:\n",
    "    most_proba_class = max_proba_idx\n",
    "\n",
    "  return (most_proba_class, probas[max_proba_idx])"
   ]
  },
  {
   "cell_type": "markdown",
   "metadata": {
    "id": "icAHgqa2PDIk"
   },
   "source": [
    "The strings below were taken at random from subreddits that have corresponding topics (e.g. r/space, r/cars, etc)."
   ]
  },
  {
   "cell_type": "code",
   "execution_count": 75,
   "metadata": {},
   "outputs": [],
   "source": [
    "labels = sorted(filtered_test_corpus['labels'].unique())"
   ]
  },
  {
   "cell_type": "code",
   "execution_count": 80,
   "metadata": {
    "id": "H-YZ3euf4hg1"
   },
   "outputs": [
    {
     "data": {
      "text/plain": [
       "(2, 0.7942583318959885)"
      ]
     },
     "execution_count": 80,
     "metadata": {},
     "output_type": "execute_result"
    }
   ],
   "source": [
    "s = \"In this study, an AlCoCrFeNi high-entropy alloy (HEA) coating was fabricated by HVOF spraying process. The HEA coating was consisted of the BCC phase (Al-rich phase) and FCC phase (Al-poor phase). The BCC phase was main phase. The mechanical performances and corrosion resistances of the coating and 06Cr13Ni5Mo martensitic stainless steel were analyzed in detail. The cavitation erosion behaviors and mechanisms of the HEA coating and 06Cr13Ni5Mo steel were investigated in distilled water and 3.5 wt% NaCl solution. The effects of microstructures, mechanical properties and corrosion properties on cavitation erosion mechanisms were discussed through the observation of eroded surface morphologies. The results showed that the cavitation erosion resistance of the AlCoCrFeNi coating was about 3.5 times that of the 06Cr13Ni5Mo steel in both solutions. In the 3.5 wt% NaCl solution, corrosion damage aggravated cavitation erosion damage, although the enhancement effect of corrosion on cavitation was limited. The corrosion environment did not change the cavitation erosion mechanisms of the two materials. The cavitation erosion mechanism of the HEA coating was lamellar spalling caused by the extension of the interlaminar cracks. Due to the lower plastic deformation resistance, the cavitation erosion mechanism of the 06Cr13Ni5Mo steel was material spalling caused by plastic deformation and fatigue fracture.\"\n",
    "classify_text(text_classifier, s, labels)"
   ]
  },
  {
   "cell_type": "code",
   "execution_count": 79,
   "metadata": {
    "id": "GGZJYEz8Pb65"
   },
   "outputs": [
    {
     "data": {
      "text/plain": [
       "(9, 0.9981913560987989)"
      ]
     },
     "execution_count": 79,
     "metadata": {},
     "output_type": "execute_result"
    }
   ],
   "source": [
    "s = \"Computational investigations of structural, chemical, and deformation behavior in high-entropy alloys (HEAs), which possess notable mechanical strength, have been limited due to the absence of applicable force fields. To extend investigations, we propose a set of intermolecular potential parameters for a quinary Al-Cr-Co-Fe-Ni alloy, using the available ternary Embedded Atom Method and LennardJones potential in classical molecular-dynamics simulations. The simulation results are validated by a comparison to first-principles Korringa-Kohn-Rostoker (KKR) - Coherent Potential Approximation (CPA) [KKR-CPA] calculations for the HEA structural properties (lattice constants and bulk moduli), relative stability, pair probabilities, and high-temperature short-range ordering. The simulation (MD)-derived properties are in quantitative agreement with KKR-CPA calculations (first-principles) and experiments. We study AlxCrCoFeNi for Al ranging from 0 <= x <= 2 mole fractions, and find that the HEA shows large chemical clustering over a wide temperature range for x < 0.5. At various temperatures high-strain compression promotes atomistic rearrangements in Al0.1CrCoFeNi, resulting in a clustering-to-ordering transition that is absent for tensile loading. Large fluctuations under stress, and at higher temperatures, are attributed to the thermo-plastic instability in Al0.1CrCoFeNi.\"\n",
    "classify_text(text_classifier, s, labels)"
   ]
  },
  {
   "cell_type": "code",
   "execution_count": 82,
   "metadata": {},
   "outputs": [
    {
     "data": {
      "text/plain": [
       "(5, 0.5253704583244228)"
      ]
     },
     "execution_count": 82,
     "metadata": {},
     "output_type": "execute_result"
    }
   ],
   "source": [
    "s = \"In this paper, to improve the hardness and wear resistance, AlCoCrFeNiSi HEA coatings were synthesized on AISI 304 stainless steel by laser cladding. The microstructure, chemical composition, constituent phases, microhardness, wear resistance and corrosion resistance of the coating were analyzed by scanning electron microscopy (SEM), energy-dispersive spectrometer (EDS), x-ray diffraction (XRD), Vickers microhardness tester, pin-on-disk tribological tester and electrochemical workstation, respectively. The experimental results showed that the coating possessed a single body-centered cubic (BCC) phase structure (Fe-Cr). Si element was dissolved into Fe-Cr solid solution, resulting in severe lattice distortion. The dislocation density of the coating was as high as 1.07x10(14) m(-2). Therefore, the microhardness (630.36 HV0.3) of the HEA coating was significantly improved by the effect of solid solution strengthening and dislocation strengthening. The coating exhibited excellent wear resistance, and abrasive wear was effectively avoided. The wear mechanism of the coating involved mainly oxidation wear and slight adhesion wear. The corrosion resistance of the coating was better than that of AISI 304 stainless steel in 3.5% NaCl solution. In conclusion, the AlCoCrFeNiSi HEA coating prepared by laser cladding can provide excellent wear protection to stainless steel at no expense to its own corrosion resistance.\"\n",
    "classify_text(text_classifier, s, labels)"
   ]
  },
  {
   "cell_type": "code",
   "execution_count": 83,
   "metadata": {},
   "outputs": [
    {
     "data": {
      "text/plain": [
       "(2, 0.9959418452423825)"
      ]
     },
     "execution_count": 83,
     "metadata": {},
     "output_type": "execute_result"
    }
   ],
   "source": [
    "s = \"This study investigates the effects of niobium and molybdenum on FeCoNi alloy, including on the microstructures and hardness of FeCoNiNb0.5Mo0.5 and FeCoNiNb alloys, and the polarization behaviors of these alloys in 1 M sulfuric acid and 1 M sodium chloride solutions. The results in this study indicate that both FeCoNiNb0.5Mo0.5 and FeCoNiNb alloys had a dual-phased dendritic microstructure; all of the phases in these alloys were solid solution phases, and no ordering was observed. Therefore, the solid solution effect significantly increased the hardness of these two alloys; in particular, FeCoNiNb alloy had the highest hardness of the alloys of interest. The corrosion resistance of FeCoNiNb0.5Mo0.5 and FeCoNiNb alloys was less than that of FeCoNi alloy because of their dual-phased dendritic microstructures. The corrosion resistance of the FeCoNiNb0.5Mo0.5 alloy exceeded that of the FeCoNiNb alloy in these solutions. However, FeCoNiNb0.5Mo0.5 and FeCoNiNb alloys exhibited a favorable combination of corrosion resistance and hardness.\"\n",
    "classify_text(text_classifier, s, labels)"
   ]
  },
  {
   "cell_type": "markdown",
   "metadata": {},
   "source": [
    "Let's classify some titles and see what happens."
   ]
  },
  {
   "cell_type": "code",
   "execution_count": 84,
   "metadata": {},
   "outputs": [
    {
     "data": {
      "text/plain": [
       "(2, 0.980014016216575)"
      ]
     },
     "execution_count": 84,
     "metadata": {},
     "output_type": "execute_result"
    }
   ],
   "source": [
    "s = \"Microstructures, Hardness and Corrosion Behaviors of FeCoNiNb0.5Mo0.5 and FeCoNiNb High-Entropy Alloys\"\n",
    "classify_text(text_classifier, s, labels)"
   ]
  },
  {
   "cell_type": "markdown",
   "metadata": {},
   "source": [
    "Interesting, was suposed to be 2 indeed."
   ]
  },
  {
   "cell_type": "code",
   "execution_count": 85,
   "metadata": {},
   "outputs": [
    {
     "data": {
      "text/plain": [
       "(8, 0.6511819756516682)"
      ]
     },
     "execution_count": 85,
     "metadata": {},
     "output_type": "execute_result"
    }
   ],
   "source": [
    "s = \"Superior high-temperature properties and deformation-induced planar faults in a novel L1(2)-strengthened high-entropy alloy\"\n",
    "classify_text(text_classifier, s, labels)"
   ]
  },
  {
   "cell_type": "markdown",
   "metadata": {},
   "source": [
    "Again good, was suposed to be 8."
   ]
  },
  {
   "cell_type": "code",
   "execution_count": 86,
   "metadata": {},
   "outputs": [
    {
     "data": {
      "text/plain": [
       "(5, 0.9951995762170244)"
      ]
     },
     "execution_count": 86,
     "metadata": {},
     "output_type": "execute_result"
    }
   ],
   "source": [
    "s = \"Microstructural evolution and wear performance of the high-entropy FeMnCoCr alloy/TiC/CaF2 self-lubricating composite coatings on copper prepared by laser cladding for continuous casting mold\"\n",
    "classify_text(text_classifier, s, labels)"
   ]
  },
  {
   "cell_type": "markdown",
   "metadata": {},
   "source": [
    "Correct again :D"
   ]
  },
  {
   "cell_type": "code",
   "execution_count": 87,
   "metadata": {},
   "outputs": [
    {
     "data": {
      "text/plain": [
       "(6, 0.7122585721531103)"
      ]
     },
     "execution_count": 87,
     "metadata": {},
     "output_type": "execute_result"
    }
   ],
   "source": [
    "s = \"Quantification of Solid Solution Strengthening and Internal Stresses through Creep Testing of Ni-Containing Single Crystals at 980 degrees C\"\n",
    "classify_text(text_classifier, s, labels)"
   ]
  },
  {
   "cell_type": "markdown",
   "metadata": {},
   "source": [
    "This is correct again!<br>\n",
    "The titles were never feed to the model, so we seem to have a good classifier."
   ]
  },
  {
   "cell_type": "markdown",
   "metadata": {
    "id": "pzxyKMHzegBI"
   },
   "source": [
    "**Note:**<br>\n",
    "Keep in mind that Naive Bayes is good at returning the most probable class but is regarded as a poor estimator because of its naive assumption of independence (i.e. the actual probability values aren't very reliable)."
   ]
  }
 ],
 "metadata": {
  "colab": {
   "private_outputs": true,
   "provenance": []
  },
  "kernelspec": {
   "display_name": "Python 3",
   "language": "python",
   "name": "python3"
  },
  "language_info": {
   "codemirror_mode": {
    "name": "ipython",
    "version": 3
   },
   "file_extension": ".py",
   "mimetype": "text/x-python",
   "name": "python",
   "nbconvert_exporter": "python",
   "pygments_lexer": "ipython3",
   "version": "3.7.6"
  }
 },
 "nbformat": 4,
 "nbformat_minor": 1
}
