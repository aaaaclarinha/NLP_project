{
 "cells": [
  {
   "cell_type": "code",
   "execution_count": 4,
   "metadata": {},
   "outputs": [],
   "source": [
    "import os\n",
    "import shutil\n",
    "import random\n",
    "\n",
    "def create_reduced_dataset(source_root, dest_root, num_images=10):\n",
    "    # Define the source and destination subfolders\n",
    "    sets = ['training_set', 'test_set']\n",
    "    classes = ['lung_n', 'lung_aca', 'lung_scc']\n",
    "\n",
    "    for set_name in sets:\n",
    "        for class_name in classes:\n",
    "            # Define source and destination paths\n",
    "            source_path = os.path.join(source_root, set_name, class_name)\n",
    "            dest_path = os.path.join(dest_root, f\"{set_name}_reduced\", class_name)\n",
    "\n",
    "            # Create destination directory if it doesn't exist\n",
    "            os.makedirs(dest_path, exist_ok=True)\n",
    "\n",
    "            # Get all images in the source directory\n",
    "            images = [f for f in os.listdir(source_path) if os.path.isfile(os.path.join(source_path, f))]\n",
    "            \n",
    "            # Randomly select the specified number of images\n",
    "            selected_images = random.sample(images, min(num_images, len(images)))\n",
    "\n",
    "            # Copy selected images to the destination directory\n",
    "            for image in selected_images:\n",
    "                shutil.copy(os.path.join(source_path, image), os.path.join(dest_path, image))\n",
    "\n",
    "# Usage example\n",
    "source_root = 'Images_data/'\n",
    "dest_root = 'Images_data/'\n",
    "create_reduced_dataset(source_root, dest_root)\n"
   ]
  },
  {
   "cell_type": "code",
   "execution_count": null,
   "metadata": {},
   "outputs": [],
   "source": []
  }
 ],
 "metadata": {
  "kernelspec": {
   "display_name": "ilumpy-VS",
   "language": "python",
   "name": "python3"
  },
  "language_info": {
   "codemirror_mode": {
    "name": "ipython",
    "version": 3
   },
   "file_extension": ".py",
   "mimetype": "text/x-python",
   "name": "python",
   "nbconvert_exporter": "python",
   "pygments_lexer": "ipython3",
   "version": "3.11.6"
  }
 },
 "nbformat": 4,
 "nbformat_minor": 2
}
