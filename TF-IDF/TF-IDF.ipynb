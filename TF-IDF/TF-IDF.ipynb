{
 "cells": [
  {
   "cell_type": "code",
   "execution_count": 1,
   "metadata": {},
   "outputs": [],
   "source": [
    "import pandas as pd\n",
    "import spacy\n",
    "from sklearn.feature_extraction.text import TfidfVectorizer\n",
    "from sklearn.metrics.pairwise import cosine_similarity\n",
    "\n",
    "# from sklearn.datasets import fetch_20newsgroups # test dataset"
   ]
  },
  {
   "cell_type": "code",
   "execution_count": 2,
   "metadata": {},
   "outputs": [],
   "source": [
    "nlp = spacy.load('en_core_web_sm')\n",
    "unwanted_pipes = [\"ner\", \"parser\"]"
   ]
  },
  {
   "cell_type": "code",
   "execution_count": 3,
   "metadata": {},
   "outputs": [],
   "source": [
    "dados = pd.read_excel('C:/JupyterLab/github_repos/NLP_project/df_completo.xlsx')"
   ]
  },
  {
   "cell_type": "code",
   "execution_count": 24,
   "metadata": {},
   "outputs": [
    {
     "name": "stdout",
     "output_type": "stream",
     "text": [
      "<class 'spacy.tokens.doc.Doc'>\n"
     ]
    }
   ],
   "source": [
    "corpus = nlp(str(dados['Abstract'].values))\n",
    "print(type(corpus))"
   ]
  },
  {
   "cell_type": "code",
   "execution_count": 21,
   "metadata": {},
   "outputs": [],
   "source": [
    "def spacy_tokenizer(doc):\n",
    "  with nlp.disable_pipes(*unwanted_pipes):\n",
    "    return [t.lemma_ for t in nlp(doc) if \\\n",
    "            not t.is_punct and \\\n",
    "            not t.is_space and \\\n",
    "            t.is_alpha]"
   ]
  },
  {
   "cell_type": "code",
   "execution_count": 33,
   "metadata": {},
   "outputs": [
    {
     "name": "stdout",
     "output_type": "stream",
     "text": [
      "['We investigated the associations between dietary intake of folate and vitamin B2, MTHFR C677T genotype, and colorectal adenomas in a Dutch case-control study. Data of cases with at least one histologically confirmed colorectal adenoma (n = 768) and controls with no history of any type of colorectal polyp (n = 709) were included. Dietary intake was assessed using a food-frequency questionnaire. Multivariable models included age and, if appropriate, dietary folate and calcium intake. The adjusted odds ratio (OR) and 95% confidence interval (CI) for the highest compared with the lowest sex-specific tertile of intake were 1.32 (95% CI, 1.01-1.73) for folate and 0.51 (95% CI, 0.36-0.73) for vitamin B2. Folate seemed to be a risk factor, especially when vitamin B2 intake was low; vitamin B2 was inversely associated with adenomas, especially with relatively high folate intake. No association was observed between MTHFR C677T genotype and colorectal adenomas. The inverse association between vitamin B2 intake and colorectal adenoma risk seemed to be more pronounced among those with the MTHFR TT genotype. We conclude that this study does not provide evidence for a decreased colorectal adenoma risk for subjects with high dietary intake of folate. It suggests, however, an inverse association between vitamin B2 and colorectal adenomas, which may be more relevant for those with the MTHFR TT genotype.'\n",
      " 'Plasma carotenoid responses were determined in 36 healthy men and women before and after being fed controlled diets with a moderate amount of fat (26% of total energy) and a high carotenoid content (approximate to 16 mg/d) for two 15-d periods. in addition, broccoli (205 g/d) was provided either during the first or the second 15-d residency period in a crossover design. Plasma was digested with lipase and cholesterol esterase, and carotenoids were extracted and measured by using HPLC. Three oxygenated carotenoids (lutein, zeaxanthin, and cryptoxanthin), three hydrocarbon carbon carotenoids (alpha-carotene, all-trans-beta-carotene, and 13-cis-beta-carotene), and four geometric isomers of lycopene (15-cis-, 13-cis-, 9-cis-, and all-trans-lycopene) were separated by using a C30 carotenoid column. A small unidentified peak coeluted with standard 9-cis-beta-carotene and was identified as zeta-carotene (lambda(max) = 400 nm). The concentrations of plasma lutein, cryptoxanthin, alpha-carotene, 13-cis-beta-carotene, all-trans-beta-carotene, and cis- and trans-lycopenes were all significantly increased (P < 0.05) on days 6-16 by the high-fruit and -vegetable diets. The provision of additional broccoli for 5 d to the bas ic high-carotenoid diet resulted in a further significant increase in the serum concentration of lutein compared with the feeding of the basic high-carotenoid diet alone. Most of the measurable carotenoids of human plasma can be increased by moderate alterations in diet within a short time, although the magnitude of the plasma response may be related to the baseline caratenoid concentrations.'\n",
      " 'Problem: Chronic diseases and conditions (e.g., heart diseases, stroke, arthritis, and diabetes) are the leading causes of morbidity and mortality in the United States. These conditions are costly to the U.S. economy, yet they are often preventable or controllable. Behavioral risk factors (e.g., excessive alcohol consumption, tobacco use, poor diet, frequent mental distress, and insufficient sleep) are linked to the leading causes of morbidity and mortality. Adopting positive health behaviors (e.g., staying physically active, quitting tobacco use, obtaining routine physical checkups, and checking blood pressure and cholesterol levels) can reduce morbidity and mortality from chronic diseases and conditions. Monitoring the health risk behaviors, chronic diseases and conditions, access to health care, and use of preventive health services at multilevel public health points (states, territories, and metropolitan and micropolitan statistical areas [MMSA]) can provide important information for development and evaluation of health intervention programs. Reporting Period: 2013 and 2014. Description of the System: The Behavioral Risk Factor Surveillance System (BRFSS) is an ongoing, state-based, random-digitdialed telephone survey of noninstitutionalized adults aged >= 18 years residing in the United States. BRFSS collects data on health risk behaviors, chronic diseases and conditions, access to health care, and use of preventive health services and practices related to the leading causes of death and disability in the United States and participating territories. This is the first BRFSS report to include age-adjusted prevalence estimates. For 2013 and 2014, these age-adjusted prevalence estimates are presented for all 50 states, the District of Columbia, the Commonwealth of Puerto Rico, Guam, and selected MMSA. Results: Age-adjusted prevalence estimates of health status indicators, health care access and preventive practices, health risk behaviors, chronic diseases and conditions, and cardiovascular conditions vary by state, territory, and MMSA. Each set of proportions presented refers to the range of age-adjusted prevalence estimates of selected BRFSS measures as reported by survey respondents. The following are estimates for 2013. Adults reporting frequent mental distress: 7.7%-15.2% in states and territories and 6.3%-19.4% in MMSA. Adults with inadequate sleep: 27.6%-49.2% in states and territories and 26.5%-44.4% in MMSA. Adults aged 18-64 years having health care coverage: 66.9%-92.4% in states and territories and 60.5%-97.6% in MMSA. Adults identifying as current cigarette smokers: 10.1%-28.8% in states and territories and 6.1%-33.6% in MMSA. Adults reporting binge drinking during the past month: 10.5%-25.2% in states and territories and 7.2%-25.3% in MMSA. Adults with obesity: 21.0%-35.2% in states and territories and 12.1%-37.1% in MMSA. Adults aged >= 45 years with some form of arthritis: 30.6%-51.0% in states and territories and 27.6%-52.4% in MMSA. Adults aged >= 45 years who have had coronary heart disease: 7.4%-17.5% in states and territories and 6.2%-20.9% in MMSA. Adults aged >= 45 years who have had a stroke: 3.1%-7.5% in states and territories and 2.3%-9.4% in MMSA. Adults with high blood pressure: 25.2%-40.1% in states and territories and 22.2%-42.2% in MMSA. Adults with high blood cholesterol: 28.8%-38.4% in states and territories and 26.3%-39.6% in MMSA. The following are estimates for 2014. Adults reporting frequent physical distress: 7.8%-16.0% in states and territories and 6.2%-18.5% in MMSA. Women aged 21-65 years who had a Papanicolaou test during the past 3 years: 67.7%-87.8% in states and territories and 68.0%-94.3% in MMSA. Adults aged 50-75 years who received colorectal cancer screening on the basis of the 2008 U.S. Preventive Services Task Force recommendation: 42.8%-76.7% in states and territories and 49.1%-79.6% in MMSA. Adults with inadequate sleep: 28.4%-48.6% in states and territories and 25.4%-45.3% in MMSA. Adults reporting binge drinking during the past month: 10.7%-25.1% in states and territories and 6.7%-26.3% in MMSA. Adults aged >= 45 years who have had coronary heart disease: 8.0%-17.1% in states and territories and 7.6%-19.2% in MMSA. Adults aged >= 45 years with some form of arthritis: 31.2%-54.7% in states and territories and 28.4%-54.7% in MMSA. Adults with obesity: 21.0%-35.9% in states and territories and 19.7%-42.5% in MMSA. Interpretation: Prevalence of certain chronic diseases and conditions, health risk behaviors, and use of preventive health services varies among states, territories, and MMSA. The findings of this report highlight the need for continued monitoring of health status, health care access, health behaviors, and chronic diseases and conditions at state and local levels. Public Health Action: State and local health departments and agencies can continue to use BRFSS data to identify populations at risk for certain unhealthy behaviors and chronic diseases and conditions. Data also can be used to design, monitor, and evaluate public health programs at state and local levels.'\n",
      " ...\n",
      " 'More remains unknown than known about how to optimize multiple health behaviour change. After reviewing the prevalence and comorbidities among major chronic disease risk behaviours for adults and youth, we consider the origins and applicability of high-risk and population strategies to foster multiple health behaviour change. Findings indicate that health risk behaviours are prevalent, increase with age and co-occur as risk behaviour clusters or bundles. We conclude that both population and high-risk strategies for health behaviour intervention are warranted, potentially synergistic and need intervention design that accounts for substitute and complementary relationships among bundled health behaviours. To maximize positive public health impact, a pressing need exists for bodies of basic and translational science that explain health behaviour bundling. Also needed is applied science that elucidates the following: (1) the optimal number of behaviours to intervene upon; (2) how target behaviours are best selected (e.g. greatest health impact; patient preferenceor positive effect on bundled behaviours); (3) whether to increase healthy or decrease unhealthy behaviours; (4) whether to intervene on health behaviours simultaneously or sequentially and (5) how to achieve positive synergies across individual-, group- and population-level intervention approaches.'\n",
      " \"Background Epstein Barr Virus (EBV) infects 90%-95% of all adults globally and causes-1% of all cancers. Differing proportions of Burkitt's lymphoma (BO, gastric carcinoma (GC:), Hodgkin's lymphoma (HL) and nasopharyngeal carcinoma (NPC) are associated with EBV. We sought to systematically review the global epidemiological evidence for risk factors that (in addition to EBV) contribute to the development of the EBV-associated forms of these cancers, assess the quality of the evidence, and compare and contrast the cancers. Methods MEDLINE, Embase and Web of Science were searched for studies of risk factors for EBV-associated BL, GC, HL and NPC without language or temporal restrictions. Studies were excluded if there was no cancer-free comparator group or where analyses of risk factors were inadequately documented. After screening and reference list searching, data were extracted into standardised spreadsheets and quality assessed. Due to heterogeneity, a narrative synthesis was undertaken. Results 9916 hits were retrieved. 271 papers were retained: two BL, 24 HL, one GC and 244 NPC. The majority of studies were from China, North America and Western Europe. Risk factors were categorised as dietary, environmental/non-dietary, human genetic, and infection and clinical. Anti-EBV antibody load was associated with EBV-associated GC and BL. Although the evidence could be inconsistent, HLA-A alleles, smoking, infectious mononucleosis and potentially other infections were risk factors for EBV-associated HL. Rancid dairy products; anti-EBV antibody and EBV DNA load; history of chronic ear, nose and/or throat conditions; herbal medicine use; family history; and human genetics were risk factors for NPC. Fresh fruit and vegetable and tea consumption may be protective against NPC. Conclusions Many epidemiological studies of risk factors in addition to EBV for the EBV-associated forms of BL, GC, HL and NPC have been undertaken, but there is a dearth of evidence for GC and BL. Available evidence is of variable quality The aetiology of EBV-associated cancers likely results from a complex intersection of genetic, clinical, environmental and dietary factors, which is difficult to assess with observational studies. Large, carefully designed, studies need to be strategically undertaken to harmonise. and clarify the evidence.\"\n",
      " 'Objectives: Opioid pain medication misuse is a major concern for US public health. The purpose of this article is to: 1) describe the demographic and physical, behavioral, and mental health characteristics of patients who fill opioid medications in community pharmacy settings; and 2) describe the extent of opioid medication misuse behaviors among these patients. Design: We recruited and screened a convenience sample of patients with the use of a tablet computerebased assessment protocol that examined behavioral, mental, and physical health. Descriptive and inferential statistics were calculated to describe respondents and their opioid medication misuse and health characteristics. Setting: Patients were screened in 2 urban and 2 rural community pharmacies in southwestern Pennsylvania. Participants: Survey participants were adult patients filling opioid pain medications who were not currently receiving treatment for a cancer diagnosis. Intervention: None. Main outcome measures: Validated screening measures included the Prescription Opioid Misuse Index, Alcohol Use Disorders Identification Test C, Short Form 12, Drug Abuse Screening Test 10, Primary Care Post-traumatic Stress Disorder (PTSD) screen, and the Patient Health Questionnaire 2. Results: A total of 333 patients were screened (71.2% response rate). Nearly the entire population reported pain above and general health below national norms. Hydrocodone (19.2%) and morphine (20.8%) were found to be the medications with the highest rates of misuse-with hydrocodone having more than 4 times higher odds of misuse compared with other medications (adjusted odds ratio [AOR] 4.48, 95% confidence interval [CI] 1.1-17.4). Patients with positive screens for illicit drug use (AOR 8.07, 95% CI 2.7-24.0), PTSD (AOR 5.88, 95% CI 2.3-14.7), and depression (AOR 2.44, 95% CI 1.0-5.9) also had significantly higher odds for misuse compared with those with negative screening results. Conclusion: These findings provide important foundational data that suggest implementation of regular opioid misuse screening protocols within community pharmacies. Such screening activities could foster a culture of prevention and overall reduction for misuse among patients filling opioid medications in community pharmacies. (C) 2016 American Pharmacists Association. Published by Elsevier Inc. All rights reserved.']\n"
     ]
    }
   ],
   "source": [
    "print((str(dados['Abstract'].values))) #TODO: LIST OF STRINGS"
   ]
  },
  {
   "cell_type": "code",
   "execution_count": 25,
   "metadata": {},
   "outputs": [
    {
     "ename": "ValueError",
     "evalue": "Iterable over raw text documents expected, string object received.",
     "output_type": "error",
     "traceback": [
      "\u001b[1;31m---------------------------------------------------------------------------\u001b[0m",
      "\u001b[1;31mValueError\u001b[0m                                Traceback (most recent call last)",
      "File \u001b[1;32m<timed exec>:2\u001b[0m\n",
      "File \u001b[1;32mc:\\venv\\ilumpy-VS\\Lib\\site-packages\\sklearn\\feature_extraction\\text.py:2138\u001b[0m, in \u001b[0;36mTfidfVectorizer.fit_transform\u001b[1;34m(self, raw_documents, y)\u001b[0m\n\u001b[0;32m   2131\u001b[0m \u001b[39mself\u001b[39m\u001b[39m.\u001b[39m_check_params()\n\u001b[0;32m   2132\u001b[0m \u001b[39mself\u001b[39m\u001b[39m.\u001b[39m_tfidf \u001b[39m=\u001b[39m TfidfTransformer(\n\u001b[0;32m   2133\u001b[0m     norm\u001b[39m=\u001b[39m\u001b[39mself\u001b[39m\u001b[39m.\u001b[39mnorm,\n\u001b[0;32m   2134\u001b[0m     use_idf\u001b[39m=\u001b[39m\u001b[39mself\u001b[39m\u001b[39m.\u001b[39muse_idf,\n\u001b[0;32m   2135\u001b[0m     smooth_idf\u001b[39m=\u001b[39m\u001b[39mself\u001b[39m\u001b[39m.\u001b[39msmooth_idf,\n\u001b[0;32m   2136\u001b[0m     sublinear_tf\u001b[39m=\u001b[39m\u001b[39mself\u001b[39m\u001b[39m.\u001b[39msublinear_tf,\n\u001b[0;32m   2137\u001b[0m )\n\u001b[1;32m-> 2138\u001b[0m X \u001b[39m=\u001b[39m \u001b[39msuper\u001b[39;49m()\u001b[39m.\u001b[39;49mfit_transform(raw_documents)\n\u001b[0;32m   2139\u001b[0m \u001b[39mself\u001b[39m\u001b[39m.\u001b[39m_tfidf\u001b[39m.\u001b[39mfit(X)\n\u001b[0;32m   2140\u001b[0m \u001b[39m# X is already a transformed view of raw_documents so\u001b[39;00m\n\u001b[0;32m   2141\u001b[0m \u001b[39m# we set copy to False\u001b[39;00m\n",
      "File \u001b[1;32mc:\\venv\\ilumpy-VS\\Lib\\site-packages\\sklearn\\base.py:1474\u001b[0m, in \u001b[0;36m_fit_context.<locals>.decorator.<locals>.wrapper\u001b[1;34m(estimator, *args, **kwargs)\u001b[0m\n\u001b[0;32m   1467\u001b[0m     estimator\u001b[39m.\u001b[39m_validate_params()\n\u001b[0;32m   1469\u001b[0m \u001b[39mwith\u001b[39;00m config_context(\n\u001b[0;32m   1470\u001b[0m     skip_parameter_validation\u001b[39m=\u001b[39m(\n\u001b[0;32m   1471\u001b[0m         prefer_skip_nested_validation \u001b[39mor\u001b[39;00m global_skip_validation\n\u001b[0;32m   1472\u001b[0m     )\n\u001b[0;32m   1473\u001b[0m ):\n\u001b[1;32m-> 1474\u001b[0m     \u001b[39mreturn\u001b[39;00m fit_method(estimator, \u001b[39m*\u001b[39;49margs, \u001b[39m*\u001b[39;49m\u001b[39m*\u001b[39;49mkwargs)\n",
      "File \u001b[1;32mc:\\venv\\ilumpy-VS\\Lib\\site-packages\\sklearn\\feature_extraction\\text.py:1367\u001b[0m, in \u001b[0;36mCountVectorizer.fit_transform\u001b[1;34m(self, raw_documents, y)\u001b[0m\n\u001b[0;32m   1363\u001b[0m \u001b[39m# We intentionally don't call the transform method to make\u001b[39;00m\n\u001b[0;32m   1364\u001b[0m \u001b[39m# fit_transform overridable without unwanted side effects in\u001b[39;00m\n\u001b[0;32m   1365\u001b[0m \u001b[39m# TfidfVectorizer.\u001b[39;00m\n\u001b[0;32m   1366\u001b[0m \u001b[39mif\u001b[39;00m \u001b[39misinstance\u001b[39m(raw_documents, \u001b[39mstr\u001b[39m):\n\u001b[1;32m-> 1367\u001b[0m     \u001b[39mraise\u001b[39;00m \u001b[39mValueError\u001b[39;00m(\n\u001b[0;32m   1368\u001b[0m         \u001b[39m\"\u001b[39m\u001b[39mIterable over raw text documents expected, string object received.\u001b[39m\u001b[39m\"\u001b[39m\n\u001b[0;32m   1369\u001b[0m     )\n\u001b[0;32m   1371\u001b[0m \u001b[39mself\u001b[39m\u001b[39m.\u001b[39m_validate_ngram_range()\n\u001b[0;32m   1372\u001b[0m \u001b[39mself\u001b[39m\u001b[39m.\u001b[39m_warn_for_unused_params()\n",
      "\u001b[1;31mValueError\u001b[0m: Iterable over raw text documents expected, string object received."
     ]
    }
   ],
   "source": [
    "%%time\n",
    "vectorizer = TfidfVectorizer(tokenizer=spacy_tokenizer)\n",
    "features = vectorizer.fit_transform(corpus)"
   ]
  },
  {
   "cell_type": "code",
   "execution_count": null,
   "metadata": {},
   "outputs": [],
   "source": []
  }
 ],
 "metadata": {
  "kernelspec": {
   "display_name": "ilumpy-VS",
   "language": "python",
   "name": "python3"
  },
  "language_info": {
   "codemirror_mode": {
    "name": "ipython",
    "version": 3
   },
   "file_extension": ".py",
   "mimetype": "text/x-python",
   "name": "python",
   "nbconvert_exporter": "python",
   "pygments_lexer": "ipython3",
   "version": "3.11.6"
  }
 },
 "nbformat": 4,
 "nbformat_minor": 2
}
