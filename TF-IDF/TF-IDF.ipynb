{
 "cells": [
  {
   "cell_type": "markdown",
   "metadata": {},
   "source": [
    "### TF-IDF"
   ]
  },
  {
   "cell_type": "code",
   "execution_count": 2,
   "metadata": {},
   "outputs": [],
   "source": [
    "import numpy as np\n",
    "import pandas as pd\n",
    "import spacy\n",
    "from sklearn.feature_extraction.text import TfidfVectorizer\n",
    "from sklearn.metrics.pairwise import cosine_similarity\n",
    "\n",
    "# from sklearn.datasets import fetch_20newsgroups # test dataset"
   ]
  },
  {
   "cell_type": "code",
   "execution_count": 3,
   "metadata": {},
   "outputs": [],
   "source": [
    "nlp = spacy.load('en_core_web_sm')\n",
    "unwanted_pipes = [\"ner\", \"parser\"]"
   ]
  },
  {
   "cell_type": "code",
   "execution_count": 4,
   "metadata": {},
   "outputs": [],
   "source": [
    "table = pd.read_excel('C:/JupyterLab/github_repos/NLP_project/Dados/df_completo.xlsx')\n",
    "unprocessed_data = table['Abstract'][0:1000].dropna()"
   ]
  },
  {
   "cell_type": "code",
   "execution_count": 5,
   "metadata": {},
   "outputs": [],
   "source": [
    "def spacy_tokenizer(doc):\n",
    "  with nlp.disable_pipes(*unwanted_pipes):\n",
    "    return [t.lemma_ for t in nlp(doc) if \\\n",
    "            not t.is_punct and \\\n",
    "            not t.is_space and \\\n",
    "            t.is_alpha]\n",
    "\n",
    "def preprocess_text(series):\n",
    "    processed_texts = []\n",
    "    for text in series:\n",
    "            doc = nlp(text)\n",
    "            filtered_words = [token.text.lower() for token in doc if not token.is_stop and token.is_alpha]\n",
    "            processed_texts.append(' '.join(filtered_words))\n",
    "    return processed_texts"
   ]
  },
  {
   "cell_type": "code",
   "execution_count": 6,
   "metadata": {},
   "outputs": [],
   "source": [
    "data = preprocess_text(unprocessed_data)\n",
    "corpus = list(data)"
   ]
  },
  {
   "cell_type": "code",
   "execution_count": 7,
   "metadata": {},
   "outputs": [],
   "source": [
    "#print(data)"
   ]
  },
  {
   "cell_type": "code",
   "execution_count": 8,
   "metadata": {},
   "outputs": [
    {
     "name": "stderr",
     "output_type": "stream",
     "text": [
      "c:\\venv\\ilumpy-VS\\Lib\\site-packages\\sklearn\\feature_extraction\\text.py:525: UserWarning: The parameter 'token_pattern' will not be used since 'tokenizer' is not None'\n",
      "  warnings.warn(\n"
     ]
    },
    {
     "name": "stdout",
     "output_type": "stream",
     "text": [
      "CPU times: total: 4.08 s\n",
      "Wall time: 9.96 s\n"
     ]
    }
   ],
   "source": [
    "%%time\n",
    "vectorizer = TfidfVectorizer(tokenizer=spacy_tokenizer)\n",
    "features = vectorizer.fit_transform(corpus)"
   ]
  },
  {
   "cell_type": "code",
   "execution_count": 9,
   "metadata": {},
   "outputs": [
    {
     "name": "stdout",
     "output_type": "stream",
     "text": [
      "(878, 7596)\n",
      "  (0, 5928)\t0.05724450790675197\n",
      "  (0, 6717)\t0.03156833834249365\n",
      "  (0, 6674)\t0.0411963981638496\n",
      "  (0, 1696)\t0.03878217928356582\n",
      "  (0, 2354)\t0.036997194167933616\n",
      "  (0, 5653)\t0.03800157703462785\n",
      "  (0, 1315)\t0.06580594505203696\n",
      "  (0, 7114)\t0.15703985085856204\n",
      "  (0, 5615)\t0.06918904361292316\n",
      "  (0, 3590)\t0.10410573465652666\n",
      "  (0, 4865)\t0.03631110342834046\n",
      "  (0, 5924)\t0.0625062004226305\n",
      "  (0, 526)\t0.022120398250058872\n",
      "  (0, 3591)\t0.05574723101481619\n",
      "  (0, 2304)\t0.10253694721708613\n",
      "  (0, 2456)\t0.02353224766325066\n",
      "  (0, 6093)\t0.05710555776228502\n",
      "  (0, 6920)\t0.08059504282962508\n",
      "  (0, 6502)\t0.04038029272881981\n",
      "  (0, 6321)\t0.04131713096347153\n",
      "  (0, 3972)\t0.05850372491535683\n",
      "  (0, 1265)\t0.028389257436090356\n",
      "  (0, 3070)\t0.07049978051635222\n",
      "  (0, 1106)\t0.08911445820962889\n",
      "  (0, 3554)\t0.0325433610733976\n",
      "  :\t:\n",
      "  (0, 518)\t0.03557887126727706\n",
      "  (0, 3357)\t0.053545593200327285\n",
      "  (0, 5382)\t0.08605325879085532\n",
      "  (0, 7138)\t0.04026764255743444\n",
      "  (0, 3091)\t0.041685965458091\n",
      "  (0, 4576)\t0.0831237887555035\n",
      "  (0, 135)\t0.258159776372566\n",
      "  (0, 1352)\t0.047332458850985706\n",
      "  (0, 3084)\t0.07371850396773827\n",
      "  (0, 1664)\t0.03038723068878841\n",
      "  (0, 6654)\t0.03419293131526945\n",
      "  (0, 1451)\t0.05613636301106106\n",
      "  (0, 954)\t0.06153906707126098\n",
      "  (0, 2048)\t0.08605325879085532\n",
      "  (0, 136)\t0.33219754313638444\n",
      "  (0, 1224)\t0.36821678166386057\n",
      "  (0, 2771)\t0.21388476091567957\n",
      "  (0, 6836)\t0.12386655839381873\n",
      "  (0, 4495)\t0.33219754313638444\n",
      "  (0, 7411)\t0.32639967501201034\n",
      "  (0, 2616)\t0.35631465535153883\n",
      "  (0, 3502)\t0.25637619235662984\n",
      "  (0, 1856)\t0.1657558255298483\n",
      "  (0, 528)\t0.09942964085356815\n",
      "  (0, 3593)\t0.0342240466773924\n"
     ]
    }
   ],
   "source": [
    "print(features.shape)\n",
    "print(features[0])"
   ]
  },
  {
   "cell_type": "markdown",
   "metadata": {},
   "source": [
    "#### Query"
   ]
  },
  {
   "cell_type": "code",
   "execution_count": 10,
   "metadata": {},
   "outputs": [],
   "source": [
    "def top_k(arr, k):\n",
    "  kth_largest = (k + 1) * -1\n",
    "  return np.argsort(arr)[:kth_largest:-1]"
   ]
  },
  {
   "cell_type": "code",
   "execution_count": 11,
   "metadata": {},
   "outputs": [],
   "source": [
    "# Transform the query into a TF-IDF vector / Lunar Query\n",
    "query = [\"does alcohol cause cancer?\"]\n",
    "query_tfidf = vectorizer.transform(query)"
   ]
  },
  {
   "cell_type": "code",
   "execution_count": 12,
   "metadata": {},
   "outputs": [],
   "source": [
    "cosine_similarities = cosine_similarity(features, query_tfidf).flatten()"
   ]
  },
  {
   "cell_type": "code",
   "execution_count": 13,
   "metadata": {},
   "outputs": [
    {
     "name": "stdout",
     "output_type": "stream",
     "text": [
      "[831 712 814 865 744]\n",
      "[0.40836542 0.35574513 0.35032774 0.34539073 0.33441327]\n"
     ]
    }
   ],
   "source": [
    "top_related_indices = top_k(cosine_similarities, 5)\n",
    "print(top_related_indices)\n",
    "print(cosine_similarities[top_related_indices])"
   ]
  },
  {
   "cell_type": "code",
   "execution_count": 14,
   "metadata": {},
   "outputs": [
    {
     "name": "stdout",
     "output_type": "stream",
     "text": [
      "[530 800 648 697 831]\n",
      "[0.4543653  0.40649619 0.38255041 0.37643666 0.3684268 ]\n"
     ]
    }
   ],
   "source": [
    "# query satellite\n",
    "query = [\"alcohol consumption and cancer\"]\n",
    "query_tfidf = vectorizer.transform(query)\n",
    "\n",
    "cosine_similarities = cosine_similarity(features, query_tfidf).flatten()\n",
    "top_related_indices = top_k(cosine_similarities, 5)\n",
    "\n",
    "print(top_related_indices)\n",
    "print(cosine_similarities[top_related_indices])"
   ]
  }
 ],
 "metadata": {
  "kernelspec": {
   "display_name": "ilumpy-VS",
   "language": "python",
   "name": "python3"
  },
  "language_info": {
   "codemirror_mode": {
    "name": "ipython",
    "version": 3
   },
   "file_extension": ".py",
   "mimetype": "text/x-python",
   "name": "python",
   "nbconvert_exporter": "python",
   "pygments_lexer": "ipython3",
   "version": "3.11.6"
  }
 },
 "nbformat": 4,
 "nbformat_minor": 2
}
